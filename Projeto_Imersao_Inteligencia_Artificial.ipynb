{
  "nbformat": 4,
  "nbformat_minor": 0,
  "metadata": {
    "colab": {
      "provenance": [],
      "collapsed_sections": [
        "W99dK8x0p0uQ"
      ],
      "authorship_tag": "ABX9TyMbNSQuHIktPSLvxjYrv/HM",
      "include_colab_link": true
    },
    "kernelspec": {
      "name": "python3",
      "display_name": "Python 3"
    },
    "language_info": {
      "name": "python"
    }
  },
  "cells": [
    {
      "cell_type": "markdown",
      "metadata": {
        "id": "view-in-github",
        "colab_type": "text"
      },
      "source": [
        "<a href=\"https://colab.research.google.com/github/Renatocslima/Projeto_Imersao_Inteligencia_Artificial/blob/main/Projeto_Imersao_Inteligencia_Artificial.ipynb\" target=\"_parent\"><img src=\"https://colab.research.google.com/assets/colab-badge.svg\" alt=\"Open In Colab\"/></a>"
      ]
    },
    {
      "cell_type": "markdown",
      "source": [
        "#Consulta ao Gemine AI"
      ],
      "metadata": {
        "id": "qKqCViizv2e9"
      }
    },
    {
      "cell_type": "code",
      "source": [
        "#Instalando o SDK do Google\n",
        "!pip install -q -U google-generativeai"
      ],
      "metadata": {
        "id": "44SANUt-vwzt"
      },
      "execution_count": 2,
      "outputs": []
    },
    {
      "cell_type": "code",
      "source": [
        "from IPython.display import display, Markdown"
      ],
      "metadata": {
        "id": "jqL6CIBwrgMV"
      },
      "execution_count": 105,
      "outputs": []
    },
    {
      "cell_type": "code",
      "source": [
        "#Configurações iniciais\n",
        "import google.generativeai as genai\n",
        "from google.colab import userdata\n",
        "\n",
        "GOOGLE_API_KEY = userdata.get('SECRET_KEY')\n",
        "genai.configure(api_key=GOOGLE_API_KEY)"
      ],
      "metadata": {
        "id": "mVOn3aYCxJ-D"
      },
      "execution_count": 3,
      "outputs": []
    },
    {
      "cell_type": "code",
      "source": [
        "generation_config = {\n",
        "  \"candidate_count\": 1,\n",
        "  \"temperature\": 0.4,\n",
        "}"
      ],
      "metadata": {
        "id": "5znj15YVxfS-"
      },
      "execution_count": 4,
      "outputs": []
    },
    {
      "cell_type": "code",
      "source": [
        "safety_settings={\n",
        "    'HATE': 'BLOCK_NONE',\n",
        "    'HARASSMENT': 'BLOCK_NONE',\n",
        "    'SEXUAL' : 'BLOCK_NONE',\n",
        "    'DANGEROUS' : 'BLOCK_NONE'\n",
        "    }"
      ],
      "metadata": {
        "id": "dybDC5iTxjrI"
      },
      "execution_count": 5,
      "outputs": []
    },
    {
      "cell_type": "code",
      "source": [
        "model = genai.GenerativeModel(model_name='gemini-1.0-pro',\n",
        "                                  generation_config=generation_config,\n",
        "                                  safety_settings=safety_settings,)"
      ],
      "metadata": {
        "id": "-6RVKI0pylOL"
      },
      "execution_count": 6,
      "outputs": []
    },
    {
      "cell_type": "code",
      "source": [
        "def qual_filme(filme):\n",
        "  response = model.generate_content(f'''Tente descobrir qual é esse filme: {filme}\n",
        "  e responda apenas com o nome dele na forma internacional junto com o ano de lançamento,\n",
        "  Exemplo: Input do úsuario: \"Qual o nome do filme que todo mundo corre atrás de uma galinha?\",\n",
        "  \"City of God\" ''')\n",
        "\n",
        "  return response.text"
      ],
      "metadata": {
        "id": "ZhZnnLhXyoDD"
      },
      "execution_count": 7,
      "outputs": []
    },
    {
      "cell_type": "code",
      "source": [
        "def nova_sinopse(filme):\n",
        "  response = model.generate_content(f'''Considerando essas informações: {filme}\n",
        "  refaça a sinopse dessa obra como se fosse o apresentador do sessão da tarde,\n",
        "  mas tomando o cuidado de transparecer o sentimento que o filme evoca''')\n",
        "\n",
        "  return response.text"
      ],
      "metadata": {
        "id": "9cH08KKyCHqN"
      },
      "execution_count": 97,
      "outputs": []
    },
    {
      "cell_type": "code",
      "source": [
        "def indica_filmes(filme):\n",
        "  response = model.generate_content(f'''Considerando essas informações: {filme}\n",
        "  me indique 3 filmes que sejam similares a esse,\n",
        "  sendo que ao menos um deles deve ser recente que 2020\n",
        "  Responda apenas com os nomes em uma lista.\n",
        "  Exemplo: Filme é Avatar, resposta:[Pocahontas, O Último Samurai, Duna] ''')\n",
        "\n",
        "  return response.text"
      ],
      "metadata": {
        "id": "T11PDdJ4ezKt"
      },
      "execution_count": 58,
      "outputs": []
    },
    {
      "cell_type": "markdown",
      "source": [
        "#letterboxd"
      ],
      "metadata": {
        "id": "W99dK8x0p0uQ"
      }
    },
    {
      "cell_type": "code",
      "source": [
        "import requests\n",
        "from bs4 import BeautifulSoup\n",
        "\n",
        "def consult_letterboxd(filme):\n",
        "  url = f'https://letterboxd.com/film/{filme}/'\n",
        "  response = requests.get(url)\n",
        "  soup = BeautifulSoup(response.content, 'html.parser')\n",
        "\n",
        "  # Get the title of the movie\n",
        "  title = soup.find_all('h1')[-1].text\n",
        "\n",
        "  # Get the release date of the movie\n",
        "  release_date = soup.find('div', class_='releaseyear').text\n",
        "\n",
        "  # Get the number of votes for the movie\n",
        "  sinopse = soup.find('div', class_='truncate').text\n",
        "\n",
        "  Resumo = {'Title': title, 'Release Date': release_date,'Sinopse': sinopse}\n",
        "  return Resumo\n"
      ],
      "metadata": {
        "id": "W6IjFVZdVPDe"
      },
      "execution_count": 10,
      "outputs": []
    },
    {
      "cell_type": "markdown",
      "source": [
        "# Que filme é esse AI?"
      ],
      "metadata": {
        "id": "x225_3vG2juy"
      }
    },
    {
      "cell_type": "code",
      "source": [
        "def qualfilme():\n",
        "  nome_do_filme = input('''Basta digitar o nome do filme ou uma lembrança do enredo e eu farei o resto.\n",
        "  \\nVou tentar advinhar o filme e te dar 3 sugestões de obras similares a ''')\n",
        "  try:\n",
        "    erro=\"\"\n",
        "    nome_do_filmeai = qual_filme(filme=nome_do_filme)\n",
        "    nome_do_filmeai_split=nome_do_filmeai.split(\" (\")\n",
        "    ano=nome_do_filmeai_split[1].replace(\")\",\"\")\n",
        "    nome_do_filme_link=nome_do_filmeai_split[0].replace(\" \",\"-\").replace(\"(\",'').lower()\n",
        "    info_filme = consult_letterboxd(nome_do_filme_link)\n",
        "    # Verifica se é a versão mais nova ou famosa com esse nome de filme\n",
        "    if info_filme['Release Date']!=ano:\n",
        "      nome_do_filme_link = nome_do_filme_link+\"-\"+ano\n",
        "      info_filme = consult_letterboxd(nome_do_filme_link)\n",
        "    #Pega as indicações de fimes com base no nome e sinopse do filme escolhido\n",
        "    indicacoes=indica_filmes(info_filme['Title']+\" - \"+info_filme['Sinopse']).replace('- ','').split('\\n')\n",
        "    # Gera uma nova Sinopse\n",
        "    sinopse=nova_sinopse(info_filme['Title']+\" - \"+info_filme['Sinopse'])\n",
        "    resposta = (f\"\\n\\n**Eu acho que o filme que está falando é:** {info_filme['Title']}. \\n\\n\")\n",
        "    dicas = (f\"\\n\\n**Filmes que também podem te interessar:** {indicacoes[0]}, {indicacoes[1]}, {indicacoes[2]}\")\n",
        "    resposta_final = resposta+sinopse+dicas\n",
        "  except Exception as e:\n",
        "    resposta_final = (\"**Me desculpe!** \\n*Mas infelizmente não encontrei o filme, \\n por favor, tente novamente e me dê mais informações sobre a trama* \\n\\n\")\n",
        "    erro=e\n",
        "  return resposta_final"
      ],
      "metadata": {
        "id": "8YBY5tekA-az"
      },
      "execution_count": 124,
      "outputs": []
    },
    {
      "cell_type": "markdown",
      "source": [
        "#Interação com o úsuario"
      ],
      "metadata": {
        "id": "FQFdMaL0wH24"
      }
    },
    {
      "cell_type": "code",
      "source": [
        "display(Markdown(qualfilme()))"
      ],
      "metadata": {
        "colab": {
          "base_uri": "https://localhost:8080/",
          "height": 270
        },
        "id": "tkJHSOQ6iCI8",
        "outputId": "06777f3b-6faf-4abf-ae75-13bfd86cb801"
      },
      "execution_count": 126,
      "outputs": [
        {
          "name": "stdout",
          "output_type": "stream",
          "text": [
            "Basta digitar o nome do filme ou uma lembrança do enredo e eu farei o resto.\n",
            "  \n",
            "Vou tentar advinhar o filme e te dar 3 sugestões de obras similares a Um grupo de amigos vai acampar na floresta e é perseguido por um assassino mascarado\n"
          ]
        },
        {
          "output_type": "display_data",
          "data": {
            "text/plain": [
              "<IPython.core.display.Markdown object>"
            ],
            "text/markdown": "\n\n**Eu acho que o filme que está falando é:** Friday the 13th. \n\n\"Preparem-se para uma noite arrepiante, meus amigos!\n\nHoje, no Sessão da Tarde, vamos mergulhar no acampamento Crystal Lake, um lugar marcado por uma tragédia sombria. Um grupo de jovens e destemidos monitores está determinado a reabrir o acampamento, mas eles não estão sozinhos.\n\nUm assassino misterioso à espreita, movido por um desejo insaciável de vingança. Cada passo que os monitores dão os aproxima do perigo, enquanto o medo se espalha como um incêndio.\n\nVocês sentirão arrepios na espinha e o coração na boca enquanto testemunham o terror que se desenrola em Friday the 13th. Um clássico do terror que vai deixar vocês acordados à noite, com medo de que o assassino possa estar logo atrás de vocês...\"\n\n**Filmes que também podem te interessar:** Sleepaway Camp (1983), Cabin Fever (2002), Terrifier 2 (2022)"
          },
          "metadata": {}
        }
      ]
    }
  ]
}